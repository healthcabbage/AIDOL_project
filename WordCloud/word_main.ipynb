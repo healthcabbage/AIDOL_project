root = tk.Tk()
root.title("AI lyricist")
root.geometry("430x500")
root.resizable(True, True)

title = tk.Label(root, text="워드 클라우드 생성 시스템", font='helvetica 16 italic')
title.grid(row=0, column=0)
#title.pack()

k1 = tk.Label(root, text="데이터 선택")
l2 = tk.Label(root, text="클라우드 마스크")
k1.grid(row=1, column=0, sticky='w')
l2.grid(row=2, column=0, sticky='w')


b1 = Button(root, text="선택", command=path_find) 
b1.grid(row=1, column=1)
b2 = Button(root, text="선택", command=mask_path_find) 
b2.grid(row=2, column=1)

b3 = Button(root, text="생성",command=make_cloud)
b4 = Button(root, text="종료",command=root.destroy)

b3.grid(row=9, column=1)
b4.grid(row=10, column=1)

#lyrics - text
ly1 = tk.Label(root, text="빈도 수")
ly1.grid(row=3, column=0, sticky ='w')

st = ScrolledText(root, width=50,  height=5)
#st.pack(fill=tk.BOTH, side=tk.LEFT, expand=True)
st.grid(row=4, column=0)

'''canvas= Canvas(width= 300, height= 300)
canvas.grid(row=10, column=0, sticky ='w')

#Load an image in the script
img= (Image.open("a.png"))

#Resize the Image using resize method
resized_image= img.resize((300,300), Image.ANTIALIAS)
new_image= ImageTk.PhotoImage(resized_image)

img2= (Image.open("dataset/wordcloud.png"))

#Add image to the Canvas Items
canvas.create_image(10,10, anchor=NW, image=new_image)'''

src = cv2.imread("dataset/wordcloud.png")
src = cv2.resize(src, (300, 300))
img = cv2.cvtColor(src, cv2.COLOR_BGR2RGB)
img = Image.fromarray(img)
imgtk = ImageTk.PhotoImage(image=img)

label = tk.Label(root, image=imgtk)
label.image = imgtk #class 내에서 작업할 경우에는 이 부분을 넣어야 보인다.

label.grid(row=10, column=0, sticky ='w')

root.mainloop()
